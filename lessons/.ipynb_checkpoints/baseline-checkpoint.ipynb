{
 "cells": [
  {
   "cell_type": "markdown",
   "metadata": {},
   "source": [
    "# Вебинар 6. Консультация по курсовому проекту.\n",
    "\n",
    "### Задание для курсового проекта\n",
    "\n",
    "Метрика:\n",
    "R2 - коэффициент детерминации (sklearn.metrics.r2_score)\n",
    "\n",
    "Сдача проекта:\n",
    "1. Сдать проект нужно в течение 7 дней после окончания последнего вебинара.\n",
    "2. Прислать в раздел Задания Урока 10 (\"Вебинар. Консультация по итоговому проекту\") ссылку на ноутбук в github или public kaggle notebook.\n",
    "3. Необходимо получить R2 > 0.6 на Private Leaderboard.\n",
    "4. Укажите свой ник на kaggle \n",
    "\n",
    "\n",
    "Примечание:\n",
    "Все файлы csv должны содержать названия полей (header - то есть \"шапку\"),разделитель - запятая. В файлах не должны содержаться индексы из датафрейма.\n",
    "____________\n",
    "Рекомендации для файла с кодом (ipynb):\n",
    "1. Файл должен содержать заголовки и комментарии\n",
    "2. Повторяющиеся операции лучше оформлять в виде функций\n",
    "3. По возможности добавлять графики, описывающие данные (около 3-5)\n",
    "4. Добавлять только лучшую модель, то есть не включать в код все варианты решения проекта\n",
    "5. Скрипт проекта должен отрабатывать от начала и до конца (от загрузки данных до выгрузки предсказаний)\n",
    "6. Весь проект должен быть в одном скрипте (файл ipynb).\n",
    "7. При использовании статистик (среднее, медиана и т.д.) в качестве признаков, лучше считать их на трейне, и потом на валидационных и тестовых данных не считать статистики заново, а брать их с трейна.\n",
    "8. Проект должен полностью отрабатывать за разумное время (не больше 10 минут), поэтому в финальный вариант лучше не включать GridSearch с перебором большого количества сочетаний параметров. "
   ]
  },
  {
   "cell_type": "markdown",
   "metadata": {},
   "source": [
    "**План занятия**\n",
    "* [Загрузка данных](#load)\n",
    "* [1. EDA](#eda)\n",
    "* [2. Обработка выбросов](#outlier)\n",
    "* [3. Обработка пропусков](#nan)\n",
    "* [4. Построение новых признаков](#feature)\n",
    "* [5. Отбор признаков](#feature_selection)\n",
    "* [6. Разбиение на train и test](#split)\n",
    "* [7. Построение модели](#modeling)\n",
    "* [8. Прогнозирование на тестовом датасете](#prediction)"
   ]
  },
  {
   "cell_type": "markdown",
   "metadata": {},
   "source": [
    "**Подключение библиотек и скриптов**"
   ]
  },
  {
   "cell_type": "code",
   "execution_count": null,
   "metadata": {
    "execution": {
     "iopub.execute_input": "2021-07-14T16:43:10.521155Z",
     "iopub.status.busy": "2021-07-14T16:43:10.520751Z",
     "iopub.status.idle": "2021-07-14T16:43:10.530024Z",
     "shell.execute_reply": "2021-07-14T16:43:10.528996Z",
     "shell.execute_reply.started": "2021-07-14T16:43:10.521117Z"
    }
   },
   "outputs": [],
   "source": [
    "# This Python 3 environment comes with many helpful analytics libraries installed\n",
    "# It is defined by the kaggle/python Docker image: https://github.com/kaggle/docker-python\n",
    "# For example, here's several helpful packages to load\n",
    "\n",
    "import numpy as np # linear algebra\n",
    "import pandas as pd # data processing, CSV file I/O (e.g. pd.read_csv)\n",
    "\n",
    "# Input data files are available in the read-only \"../input/\" directory\n",
    "# For example, running this (by clicking run or pressing Shift+Enter) will list all files under the input directory\n",
    "\n",
    "import os\n",
    "for dirname, _, filenames in os.walk('/kaggle/input'):\n",
    "    for filename in filenames:\n",
    "        print(os.path.join(dirname, filename))\n",
    "\n",
    "# You can write up to 5GB to the current directory (/kaggle/working/) that gets preserved as output when you create a version using \"Save & Run All\" \n",
    "# You can also write temporary files to /kaggle/temp/, but they won't be saved outside of the current session"
   ]
  },
  {
   "cell_type": "code",
   "execution_count": null,
   "metadata": {
    "execution": {
     "iopub.execute_input": "2021-07-14T17:05:44.237693Z",
     "iopub.status.busy": "2021-07-14T17:05:44.237258Z",
     "iopub.status.idle": "2021-07-14T17:05:45.578069Z",
     "shell.execute_reply": "2021-07-14T17:05:45.577213Z",
     "shell.execute_reply.started": "2021-07-14T17:05:44.237656Z"
    }
   },
   "outputs": [],
   "source": [
    "import numpy as np\n",
    "import pandas as pd\n",
    "import random\n",
    "\n",
    "from sklearn.model_selection import train_test_split, cross_val_score\n",
    "from sklearn.preprocessing import StandardScaler, RobustScaler\n",
    "from sklearn.ensemble import RandomForestRegressor\n",
    "from sklearn.metrics import r2_score as r2\n",
    "from sklearn.model_selection import KFold, GridSearchCV\n",
    "\n",
    "from datetime import datetime\n",
    "\n",
    "import matplotlib\n",
    "import matplotlib.pyplot as plt\n",
    "import seaborn as sns\n",
    "%matplotlib inline"
   ]
  },
  {
   "cell_type": "code",
   "execution_count": null,
   "metadata": {
    "execution": {
     "iopub.execute_input": "2021-07-14T17:05:47.38203Z",
     "iopub.status.busy": "2021-07-14T17:05:47.381476Z",
     "iopub.status.idle": "2021-07-14T17:05:47.387234Z",
     "shell.execute_reply": "2021-07-14T17:05:47.386039Z",
     "shell.execute_reply.started": "2021-07-14T17:05:47.381977Z"
    }
   },
   "outputs": [],
   "source": [
    "import warnings\n",
    "warnings.filterwarnings('ignore')"
   ]
  },
  {
   "cell_type": "code",
   "execution_count": null,
   "metadata": {
    "execution": {
     "iopub.execute_input": "2021-07-14T17:05:50.190282Z",
     "iopub.status.busy": "2021-07-14T17:05:50.189906Z",
     "iopub.status.idle": "2021-07-14T17:05:50.195731Z",
     "shell.execute_reply": "2021-07-14T17:05:50.194312Z",
     "shell.execute_reply.started": "2021-07-14T17:05:50.190249Z"
    }
   },
   "outputs": [],
   "source": [
    "matplotlib.rcParams.update({'font.size': 14})"
   ]
  },
  {
   "cell_type": "code",
   "execution_count": null,
   "metadata": {
    "execution": {
     "iopub.execute_input": "2021-07-14T17:06:06.963751Z",
     "iopub.status.busy": "2021-07-14T17:06:06.963385Z",
     "iopub.status.idle": "2021-07-14T17:06:06.973409Z",
     "shell.execute_reply": "2021-07-14T17:06:06.972448Z",
     "shell.execute_reply.started": "2021-07-14T17:06:06.96372Z"
    }
   },
   "outputs": [],
   "source": [
    "def evaluate_preds(train_true_values, train_pred_values, test_true_values, test_pred_values):\n",
    "    print(\"Train R2:\\t\" + str(round(r2(train_true_values, train_pred_values), 3)))\n",
    "    print(\"Test R2:\\t\" + str(round(r2(test_true_values, test_pred_values), 3)))\n",
    "    \n",
    "    plt.figure(figsize=(18,10))\n",
    "    \n",
    "    plt.subplot(121)\n",
    "    sns.scatterplot(x=train_pred_values, y=train_true_values)\n",
    "    plt.xlabel('Predicted values')\n",
    "    plt.ylabel('True values')\n",
    "    plt.title('Train sample prediction')\n",
    "    \n",
    "    plt.subplot(122)\n",
    "    sns.scatterplot(x=test_pred_values, y=test_true_values)\n",
    "    plt.xlabel('Predicted values')\n",
    "    plt.ylabel('True values')\n",
    "    plt.title('Test sample prediction')\n",
    "\n",
    "    plt.show()"
   ]
  },
  {
   "cell_type": "markdown",
   "metadata": {},
   "source": [
    "**Пути к директориям и файлам**"
   ]
  },
  {
   "cell_type": "code",
   "execution_count": null,
   "metadata": {
    "execution": {
     "iopub.execute_input": "2021-07-14T17:06:29.52305Z",
     "iopub.status.busy": "2021-07-14T17:06:29.522523Z",
     "iopub.status.idle": "2021-07-14T17:06:29.527701Z",
     "shell.execute_reply": "2021-07-14T17:06:29.526623Z",
     "shell.execute_reply.started": "2021-07-14T17:06:29.523004Z"
    }
   },
   "outputs": [],
   "source": [
    "TRAIN_DATASET_PATH = '../input/real-estate-price-prediction-moscow/train.csv'\n",
    "TEST_DATASET_PATH = '../input/real-estate-price-prediction-moscow/test.csv'"
   ]
  },
  {
   "cell_type": "markdown",
   "metadata": {},
   "source": [
    "### Загрузка данных <a class='anchor' id='load'>"
   ]
  },
  {
   "cell_type": "markdown",
   "metadata": {},
   "source": [
    "**Описание датасета**\n",
    "\n",
    "* **Id** - идентификационный номер квартиры\n",
    "* **DistrictId** - идентификационный номер района\n",
    "* **Rooms** - количество комнат\n",
    "* **Square** - площадь\n",
    "* **LifeSquare** - жилая площадь\n",
    "* **KitchenSquare** - площадь кухни\n",
    "* **Floor** - этаж\n",
    "* **HouseFloor** - количество этажей в доме\n",
    "* **HouseYear** - год постройки дома\n",
    "* **Ecology_1, Ecology_2, Ecology_3** - экологические показатели местности\n",
    "* **Social_1, Social_2, Social_3** - социальные показатели местности\n",
    "* **Healthcare_1, Helthcare_2** - показатели местности, связанные с охраной здоровья\n",
    "* **Shops_1, Shops_2** - показатели, связанные с наличием магазинов, торговых центров\n",
    "* **Price** - цена квартиры"
   ]
  },
  {
   "cell_type": "code",
   "execution_count": null,
   "metadata": {
    "execution": {
     "iopub.execute_input": "2021-07-14T17:06:33.042773Z",
     "iopub.status.busy": "2021-07-14T17:06:33.042262Z",
     "iopub.status.idle": "2021-07-14T17:06:33.132567Z",
     "shell.execute_reply": "2021-07-14T17:06:33.131443Z",
     "shell.execute_reply.started": "2021-07-14T17:06:33.042739Z"
    }
   },
   "outputs": [],
   "source": [
    "train_df = pd.read_csv(TRAIN_DATASET_PATH)\n",
    "train_df.tail()"
   ]
  },
  {
   "cell_type": "code",
   "execution_count": null,
   "metadata": {
    "execution": {
     "iopub.execute_input": "2021-07-14T17:09:00.131745Z",
     "iopub.status.busy": "2021-07-14T17:09:00.131364Z",
     "iopub.status.idle": "2021-07-14T17:09:00.14073Z",
     "shell.execute_reply": "2021-07-14T17:09:00.139696Z",
     "shell.execute_reply.started": "2021-07-14T17:09:00.131713Z"
    }
   },
   "outputs": [],
   "source": [
    "train_df.dtypes"
   ]
  },
  {
   "cell_type": "code",
   "execution_count": null,
   "metadata": {
    "execution": {
     "iopub.execute_input": "2021-07-14T17:09:18.361903Z",
     "iopub.status.busy": "2021-07-14T17:09:18.361283Z",
     "iopub.status.idle": "2021-07-14T17:09:18.417723Z",
     "shell.execute_reply": "2021-07-14T17:09:18.416755Z",
     "shell.execute_reply.started": "2021-07-14T17:09:18.361849Z"
    }
   },
   "outputs": [],
   "source": [
    "test_df = pd.read_csv(TEST_DATASET_PATH)\n",
    "test_df.tail()"
   ]
  },
  {
   "cell_type": "code",
   "execution_count": null,
   "metadata": {
    "execution": {
     "iopub.execute_input": "2021-07-14T17:09:18.81524Z",
     "iopub.status.busy": "2021-07-14T17:09:18.814894Z",
     "iopub.status.idle": "2021-07-14T17:09:18.821721Z",
     "shell.execute_reply": "2021-07-14T17:09:18.820609Z",
     "shell.execute_reply.started": "2021-07-14T17:09:18.815202Z"
    }
   },
   "outputs": [],
   "source": [
    "print('Строк в трейне:', train_df.shape[0])\n",
    "print('Строк в тесте', test_df.shape[0])"
   ]
  },
  {
   "cell_type": "code",
   "execution_count": null,
   "metadata": {
    "execution": {
     "iopub.execute_input": "2021-07-14T17:09:40.441103Z",
     "iopub.status.busy": "2021-07-14T17:09:40.440714Z",
     "iopub.status.idle": "2021-07-14T17:09:40.448151Z",
     "shell.execute_reply": "2021-07-14T17:09:40.446969Z",
     "shell.execute_reply.started": "2021-07-14T17:09:40.44107Z"
    }
   },
   "outputs": [],
   "source": [
    "train_df.shape[1] - 1 == test_df.shape[1]"
   ]
  },
  {
   "cell_type": "markdown",
   "metadata": {},
   "source": [
    "### Приведение типов"
   ]
  },
  {
   "cell_type": "code",
   "execution_count": null,
   "metadata": {
    "execution": {
     "iopub.execute_input": "2021-07-14T17:09:55.64793Z",
     "iopub.status.busy": "2021-07-14T17:09:55.647385Z",
     "iopub.status.idle": "2021-07-14T17:09:55.655134Z",
     "shell.execute_reply": "2021-07-14T17:09:55.65431Z",
     "shell.execute_reply.started": "2021-07-14T17:09:55.647894Z"
    }
   },
   "outputs": [],
   "source": [
    "train_df.dtypes"
   ]
  },
  {
   "cell_type": "code",
   "execution_count": null,
   "metadata": {
    "execution": {
     "iopub.execute_input": "2021-07-14T17:09:56.008542Z",
     "iopub.status.busy": "2021-07-14T17:09:56.008175Z",
     "iopub.status.idle": "2021-07-14T17:09:56.026719Z",
     "shell.execute_reply": "2021-07-14T17:09:56.025583Z",
     "shell.execute_reply.started": "2021-07-14T17:09:56.00851Z"
    }
   },
   "outputs": [],
   "source": [
    "train_df['Id'] = train_df['Id'].astype(str)\n",
    "train_df['DistrictId'] = train_df['DistrictId'].astype(str)"
   ]
  },
  {
   "cell_type": "markdown",
   "metadata": {},
   "source": [
    "## 1. EDA  <a class='anchor' id='eda'>\n",
    "Делаем EDA для:\n",
    "- Исправления выбросов\n",
    "- Заполнения NaN\n",
    "- Идей для генерации новых фич"
   ]
  },
  {
   "cell_type": "markdown",
   "metadata": {},
   "source": [
    "**Целевая переменная**"
   ]
  },
  {
   "cell_type": "code",
   "execution_count": null,
   "metadata": {
    "execution": {
     "iopub.execute_input": "2021-07-14T17:12:08.678409Z",
     "iopub.status.busy": "2021-07-14T17:12:08.67802Z",
     "iopub.status.idle": "2021-07-14T17:12:08.988739Z",
     "shell.execute_reply": "2021-07-14T17:12:08.987783Z",
     "shell.execute_reply.started": "2021-07-14T17:12:08.678378Z"
    }
   },
   "outputs": [],
   "source": [
    "plt.figure(figsize = (16, 8))\n",
    "\n",
    "train_df['Price'].hist(bins=30)\n",
    "plt.ylabel('Count')\n",
    "plt.xlabel('Price')\n",
    "\n",
    "plt.title('Target distribution')\n",
    "plt.show()"
   ]
  },
  {
   "cell_type": "markdown",
   "metadata": {},
   "source": [
    "**Количественные переменные**"
   ]
  },
  {
   "cell_type": "code",
   "execution_count": null,
   "metadata": {
    "execution": {
     "iopub.execute_input": "2021-07-14T17:13:01.381657Z",
     "iopub.status.busy": "2021-07-14T17:13:01.381284Z",
     "iopub.status.idle": "2021-07-14T17:13:01.53123Z",
     "shell.execute_reply": "2021-07-14T17:13:01.530416Z",
     "shell.execute_reply.started": "2021-07-14T17:13:01.381625Z"
    }
   },
   "outputs": [],
   "source": [
    "train_df.describe()"
   ]
  },
  {
   "cell_type": "markdown",
   "metadata": {},
   "source": [
    "**Номинативные переменные**"
   ]
  },
  {
   "cell_type": "code",
   "execution_count": null,
   "metadata": {
    "execution": {
     "iopub.execute_input": "2021-07-14T17:15:46.899778Z",
     "iopub.status.busy": "2021-07-14T17:15:46.899411Z",
     "iopub.status.idle": "2021-07-14T17:15:46.910007Z",
     "shell.execute_reply": "2021-07-14T17:15:46.909012Z",
     "shell.execute_reply.started": "2021-07-14T17:15:46.899748Z"
    }
   },
   "outputs": [],
   "source": [
    "train_df.select_dtypes(include='object').columns.tolist()"
   ]
  },
  {
   "cell_type": "code",
   "execution_count": null,
   "metadata": {
    "execution": {
     "iopub.execute_input": "2021-07-14T17:15:47.465532Z",
     "iopub.status.busy": "2021-07-14T17:15:47.465113Z",
     "iopub.status.idle": "2021-07-14T17:15:47.480582Z",
     "shell.execute_reply": "2021-07-14T17:15:47.479498Z",
     "shell.execute_reply.started": "2021-07-14T17:15:47.465481Z"
    }
   },
   "outputs": [],
   "source": [
    "train_df['DistrictId'].value_counts()"
   ]
  },
  {
   "cell_type": "code",
   "execution_count": null,
   "metadata": {
    "execution": {
     "iopub.execute_input": "2021-07-14T17:15:48.344917Z",
     "iopub.status.busy": "2021-07-14T17:15:48.344567Z",
     "iopub.status.idle": "2021-07-14T17:15:48.356729Z",
     "shell.execute_reply": "2021-07-14T17:15:48.355442Z",
     "shell.execute_reply.started": "2021-07-14T17:15:48.344886Z"
    }
   },
   "outputs": [],
   "source": [
    "train_df['Ecology_2'].value_counts()"
   ]
  },
  {
   "cell_type": "code",
   "execution_count": null,
   "metadata": {
    "execution": {
     "iopub.execute_input": "2021-07-14T17:15:48.988157Z",
     "iopub.status.busy": "2021-07-14T17:15:48.987753Z",
     "iopub.status.idle": "2021-07-14T17:15:48.999274Z",
     "shell.execute_reply": "2021-07-14T17:15:48.998352Z",
     "shell.execute_reply.started": "2021-07-14T17:15:48.988126Z"
    }
   },
   "outputs": [],
   "source": [
    "train_df['Ecology_3'].value_counts()"
   ]
  },
  {
   "cell_type": "code",
   "execution_count": null,
   "metadata": {
    "execution": {
     "iopub.execute_input": "2021-07-14T17:15:50.242138Z",
     "iopub.status.busy": "2021-07-14T17:15:50.241596Z",
     "iopub.status.idle": "2021-07-14T17:15:50.252894Z",
     "shell.execute_reply": "2021-07-14T17:15:50.251959Z",
     "shell.execute_reply.started": "2021-07-14T17:15:50.242092Z"
    }
   },
   "outputs": [],
   "source": [
    "train_df['Shops_2'].value_counts()"
   ]
  },
  {
   "cell_type": "markdown",
   "metadata": {},
   "source": [
    "### 2. Обработка выбросов  <a class='anchor' id='outlier'>\n",
    "Что можно делать с ними?\n",
    "1. Выкинуть эти данные (только на трейне, на тесте ничего не выкидываем)\n",
    "2. Заменять выбросы разными методами (медианы, средние значения, np.clip и т.д.)\n",
    "3. Делать/не делать дополнительную фичу\n",
    "4. Ничего не делать"
   ]
  },
  {
   "cell_type": "markdown",
   "metadata": {},
   "source": [
    "**Rooms**"
   ]
  },
  {
   "cell_type": "code",
   "execution_count": null,
   "metadata": {
    "execution": {
     "iopub.execute_input": "2021-07-14T17:20:48.31949Z",
     "iopub.status.busy": "2021-07-14T17:20:48.319111Z",
     "iopub.status.idle": "2021-07-14T17:20:48.329582Z",
     "shell.execute_reply": "2021-07-14T17:20:48.328035Z",
     "shell.execute_reply.started": "2021-07-14T17:20:48.319456Z"
    },
    "scrolled": true
   },
   "outputs": [],
   "source": [
    "train_df['Rooms'].value_counts()"
   ]
  },
  {
   "cell_type": "code",
   "execution_count": null,
   "metadata": {
    "execution": {
     "iopub.execute_input": "2021-07-14T17:22:09.28412Z",
     "iopub.status.busy": "2021-07-14T17:22:09.283527Z",
     "iopub.status.idle": "2021-07-14T17:22:09.340203Z",
     "shell.execute_reply": "2021-07-14T17:22:09.339497Z",
     "shell.execute_reply.started": "2021-07-14T17:22:09.284082Z"
    }
   },
   "outputs": [],
   "source": [
    "train_df['Rooms_outlier'] = 0\n",
    "train_df.loc[(train_df['Rooms'] == 0) | (train_df['Rooms'] >= 6), 'Rooms_outlier'] = 1\n",
    "train_df.head()"
   ]
  },
  {
   "cell_type": "code",
   "execution_count": null,
   "metadata": {
    "execution": {
     "iopub.execute_input": "2021-07-14T17:22:38.282244Z",
     "iopub.status.busy": "2021-07-14T17:22:38.281883Z",
     "iopub.status.idle": "2021-07-14T17:22:38.291077Z",
     "shell.execute_reply": "2021-07-14T17:22:38.289552Z",
     "shell.execute_reply.started": "2021-07-14T17:22:38.282213Z"
    }
   },
   "outputs": [],
   "source": [
    "train_df.loc[train_df['Rooms'] == 0, 'Rooms'] = 1\n",
    "train_df.loc[train_df['Rooms'] >= 6, 'Rooms'] = train_df['Rooms'].median()"
   ]
  },
  {
   "cell_type": "code",
   "execution_count": null,
   "metadata": {
    "execution": {
     "iopub.execute_input": "2021-07-14T17:22:38.649055Z",
     "iopub.status.busy": "2021-07-14T17:22:38.648555Z",
     "iopub.status.idle": "2021-07-14T17:22:38.657003Z",
     "shell.execute_reply": "2021-07-14T17:22:38.656016Z",
     "shell.execute_reply.started": "2021-07-14T17:22:38.649023Z"
    }
   },
   "outputs": [],
   "source": [
    "train_df['Rooms'].value_counts()"
   ]
  },
  {
   "cell_type": "markdown",
   "metadata": {},
   "source": [
    "**KitchenSquare** "
   ]
  },
  {
   "cell_type": "code",
   "execution_count": null,
   "metadata": {
    "execution": {
     "iopub.execute_input": "2021-07-14T17:22:54.547478Z",
     "iopub.status.busy": "2021-07-14T17:22:54.546827Z",
     "iopub.status.idle": "2021-07-14T17:22:54.557072Z",
     "shell.execute_reply": "2021-07-14T17:22:54.556309Z",
     "shell.execute_reply.started": "2021-07-14T17:22:54.547439Z"
    }
   },
   "outputs": [],
   "source": [
    "train_df['KitchenSquare'].value_counts()"
   ]
  },
  {
   "cell_type": "code",
   "execution_count": null,
   "metadata": {
    "execution": {
     "iopub.execute_input": "2021-07-14T17:24:09.730287Z",
     "iopub.status.busy": "2021-07-14T17:24:09.72992Z",
     "iopub.status.idle": "2021-07-14T17:24:09.741441Z",
     "shell.execute_reply": "2021-07-14T17:24:09.740494Z",
     "shell.execute_reply.started": "2021-07-14T17:24:09.730255Z"
    }
   },
   "outputs": [],
   "source": [
    "train_df['KitchenSquare'].quantile(.975), train_df['KitchenSquare'].quantile(.025)"
   ]
  },
  {
   "cell_type": "code",
   "execution_count": null,
   "metadata": {
    "execution": {
     "iopub.execute_input": "2021-07-14T17:25:12.098807Z",
     "iopub.status.busy": "2021-07-14T17:25:12.098422Z",
     "iopub.status.idle": "2021-07-14T17:25:12.109054Z",
     "shell.execute_reply": "2021-07-14T17:25:12.108063Z",
     "shell.execute_reply.started": "2021-07-14T17:25:12.098776Z"
    }
   },
   "outputs": [],
   "source": [
    "condition = (train_df['KitchenSquare'].isna()) \\\n",
    "             | (train_df['KitchenSquare'] > train_df['KitchenSquare'].quantile(.975))\n",
    "        \n",
    "train_df.loc[condition, 'KitchenSquare'] = train_df['KitchenSquare'].median()\n",
    "\n",
    "train_df.loc[train_df['KitchenSquare'] < 3, 'KitchenSquare'] = 3"
   ]
  },
  {
   "cell_type": "code",
   "execution_count": null,
   "metadata": {
    "execution": {
     "iopub.execute_input": "2021-07-14T17:25:12.148445Z",
     "iopub.status.busy": "2021-07-14T17:25:12.148013Z",
     "iopub.status.idle": "2021-07-14T17:25:12.158346Z",
     "shell.execute_reply": "2021-07-14T17:25:12.157451Z",
     "shell.execute_reply.started": "2021-07-14T17:25:12.148391Z"
    }
   },
   "outputs": [],
   "source": [
    "train_df['KitchenSquare'].value_counts()"
   ]
  },
  {
   "cell_type": "markdown",
   "metadata": {},
   "source": [
    "**HouseFloor, Floor**"
   ]
  },
  {
   "cell_type": "code",
   "execution_count": null,
   "metadata": {
    "execution": {
     "iopub.execute_input": "2021-07-14T17:25:25.339121Z",
     "iopub.status.busy": "2021-07-14T17:25:25.338616Z",
     "iopub.status.idle": "2021-07-14T17:25:25.349812Z",
     "shell.execute_reply": "2021-07-14T17:25:25.348822Z",
     "shell.execute_reply.started": "2021-07-14T17:25:25.339079Z"
    },
    "scrolled": true
   },
   "outputs": [],
   "source": [
    "train_df['HouseFloor'].sort_values().unique()"
   ]
  },
  {
   "cell_type": "code",
   "execution_count": null,
   "metadata": {
    "execution": {
     "iopub.execute_input": "2021-07-14T17:25:26.144102Z",
     "iopub.status.busy": "2021-07-14T17:25:26.143549Z",
     "iopub.status.idle": "2021-07-14T17:25:26.151757Z",
     "shell.execute_reply": "2021-07-14T17:25:26.150982Z",
     "shell.execute_reply.started": "2021-07-14T17:25:26.144066Z"
    },
    "scrolled": true
   },
   "outputs": [],
   "source": [
    "train_df['Floor'].sort_values().unique()"
   ]
  },
  {
   "cell_type": "code",
   "execution_count": null,
   "metadata": {
    "execution": {
     "iopub.execute_input": "2021-07-14T17:25:26.48569Z",
     "iopub.status.busy": "2021-07-14T17:25:26.483396Z",
     "iopub.status.idle": "2021-07-14T17:25:26.493108Z",
     "shell.execute_reply": "2021-07-14T17:25:26.492081Z",
     "shell.execute_reply.started": "2021-07-14T17:25:26.48564Z"
    }
   },
   "outputs": [],
   "source": [
    "(train_df['Floor'] > train_df['HouseFloor']).sum()"
   ]
  },
  {
   "cell_type": "code",
   "execution_count": null,
   "metadata": {
    "execution": {
     "iopub.execute_input": "2021-07-14T17:26:52.135151Z",
     "iopub.status.busy": "2021-07-14T17:26:52.134785Z",
     "iopub.status.idle": "2021-07-14T17:26:52.145132Z",
     "shell.execute_reply": "2021-07-14T17:26:52.143982Z",
     "shell.execute_reply.started": "2021-07-14T17:26:52.13512Z"
    }
   },
   "outputs": [],
   "source": [
    "train_df['HouseFloor_outlier'] = 0\n",
    "train_df.loc[train_df['HouseFloor'] == 0, 'HouseFloor_outlier'] = 1\n",
    "train_df.loc[train_df['Floor'] > train_df['HouseFloor'], 'HouseFloor_outlier'] = 1"
   ]
  },
  {
   "cell_type": "code",
   "execution_count": null,
   "metadata": {
    "execution": {
     "iopub.execute_input": "2021-07-14T17:26:58.938151Z",
     "iopub.status.busy": "2021-07-14T17:26:58.937764Z",
     "iopub.status.idle": "2021-07-14T17:26:58.945666Z",
     "shell.execute_reply": "2021-07-14T17:26:58.944806Z",
     "shell.execute_reply.started": "2021-07-14T17:26:58.93811Z"
    }
   },
   "outputs": [],
   "source": [
    "train_df.loc[train_df['HouseFloor'] == 0, 'HouseFloor'] = train_df['HouseFloor'].median()"
   ]
  },
  {
   "cell_type": "code",
   "execution_count": null,
   "metadata": {
    "execution": {
     "iopub.execute_input": "2021-07-14T17:26:59.298087Z",
     "iopub.status.busy": "2021-07-14T17:26:59.297591Z",
     "iopub.status.idle": "2021-07-14T17:26:59.306032Z",
     "shell.execute_reply": "2021-07-14T17:26:59.305328Z",
     "shell.execute_reply.started": "2021-07-14T17:26:59.298042Z"
    }
   },
   "outputs": [],
   "source": [
    "floor_outliers = train_df.loc[train_df['Floor'] > train_df['HouseFloor']].index\n",
    "floor_outliers"
   ]
  },
  {
   "cell_type": "code",
   "execution_count": null,
   "metadata": {
    "execution": {
     "iopub.execute_input": "2021-07-14T17:28:06.868129Z",
     "iopub.status.busy": "2021-07-14T17:28:06.867726Z",
     "iopub.status.idle": "2021-07-14T17:28:06.881217Z",
     "shell.execute_reply": "2021-07-14T17:28:06.879952Z",
     "shell.execute_reply.started": "2021-07-14T17:28:06.868096Z"
    }
   },
   "outputs": [],
   "source": [
    "train_df.loc[floor_outliers, 'Floor'] = train_df.loc[floor_outliers, 'HouseFloor']\\\n",
    "                                                .apply(lambda x: random.randint(1, x))"
   ]
  },
  {
   "cell_type": "code",
   "execution_count": null,
   "metadata": {
    "execution": {
     "iopub.execute_input": "2021-07-14T17:28:06.918035Z",
     "iopub.status.busy": "2021-07-14T17:28:06.917675Z",
     "iopub.status.idle": "2021-07-14T17:28:06.926079Z",
     "shell.execute_reply": "2021-07-14T17:28:06.925345Z",
     "shell.execute_reply.started": "2021-07-14T17:28:06.918005Z"
    }
   },
   "outputs": [],
   "source": [
    "(train_df['Floor'] > train_df['HouseFloor']).sum()"
   ]
  },
  {
   "cell_type": "markdown",
   "metadata": {},
   "source": [
    "**HouseYear**"
   ]
  },
  {
   "cell_type": "code",
   "execution_count": null,
   "metadata": {
    "execution": {
     "iopub.execute_input": "2021-07-14T17:28:18.02592Z",
     "iopub.status.busy": "2021-07-14T17:28:18.025391Z",
     "iopub.status.idle": "2021-07-14T17:28:18.034312Z",
     "shell.execute_reply": "2021-07-14T17:28:18.033392Z",
     "shell.execute_reply.started": "2021-07-14T17:28:18.025886Z"
    }
   },
   "outputs": [],
   "source": [
    "train_df['HouseYear'].sort_values(ascending=False)"
   ]
  },
  {
   "cell_type": "code",
   "execution_count": null,
   "metadata": {
    "execution": {
     "iopub.execute_input": "2021-07-14T17:30:06.902124Z",
     "iopub.status.busy": "2021-07-14T17:30:06.901691Z",
     "iopub.status.idle": "2021-07-14T17:30:06.909076Z",
     "shell.execute_reply": "2021-07-14T17:30:06.907881Z",
     "shell.execute_reply.started": "2021-07-14T17:30:06.902084Z"
    }
   },
   "outputs": [],
   "source": [
    "train_df.loc[train_df['HouseYear'] > 2020, 'HouseYear'] = 2020"
   ]
  },
  {
   "cell_type": "markdown",
   "metadata": {},
   "source": [
    "### 3. Обработка пропусков  <a class='anchor' id='nan'>"
   ]
  },
  {
   "cell_type": "code",
   "execution_count": null,
   "metadata": {
    "execution": {
     "iopub.execute_input": "2021-07-14T17:30:15.228399Z",
     "iopub.status.busy": "2021-07-14T17:30:15.228037Z",
     "iopub.status.idle": "2021-07-14T17:30:15.24463Z",
     "shell.execute_reply": "2021-07-14T17:30:15.243461Z",
     "shell.execute_reply.started": "2021-07-14T17:30:15.228369Z"
    }
   },
   "outputs": [],
   "source": [
    "train_df.isna().sum()"
   ]
  },
  {
   "cell_type": "code",
   "execution_count": null,
   "metadata": {
    "execution": {
     "iopub.execute_input": "2021-07-14T17:30:15.656382Z",
     "iopub.status.busy": "2021-07-14T17:30:15.656006Z",
     "iopub.status.idle": "2021-07-14T17:30:15.670808Z",
     "shell.execute_reply": "2021-07-14T17:30:15.669556Z",
     "shell.execute_reply.started": "2021-07-14T17:30:15.65635Z"
    }
   },
   "outputs": [],
   "source": [
    "train_df[['Square', 'LifeSquare', 'KitchenSquare']].head(10)"
   ]
  },
  {
   "cell_type": "markdown",
   "metadata": {},
   "source": [
    "**LifeSquare**"
   ]
  },
  {
   "cell_type": "code",
   "execution_count": null,
   "metadata": {
    "execution": {
     "iopub.execute_input": "2021-07-14T17:32:35.433583Z",
     "iopub.status.busy": "2021-07-14T17:32:35.433178Z",
     "iopub.status.idle": "2021-07-14T17:32:35.448014Z",
     "shell.execute_reply": "2021-07-14T17:32:35.447097Z",
     "shell.execute_reply.started": "2021-07-14T17:32:35.433543Z"
    }
   },
   "outputs": [],
   "source": [
    "train_df['LifeSquare_nan'] = train_df['LifeSquare'].isna() * 1\n",
    "\n",
    "condition = (train_df['LifeSquare'].isna()) \\\n",
    "             & (~train_df['Square'].isna()) \\\n",
    "             & (~train_df['KitchenSquare'].isna())\n",
    "        \n",
    "train_df.loc[condition, 'LifeSquare'] = train_df.loc[condition, 'Square'] \\\n",
    "                                            - train_df.loc[condition, 'KitchenSquare'] - 3"
   ]
  },
  {
   "cell_type": "markdown",
   "metadata": {},
   "source": [
    "**Healthcare_1**"
   ]
  },
  {
   "cell_type": "code",
   "execution_count": null,
   "metadata": {
    "execution": {
     "iopub.execute_input": "2021-07-14T17:32:40.028497Z",
     "iopub.status.busy": "2021-07-14T17:32:40.027918Z",
     "iopub.status.idle": "2021-07-14T17:32:40.036559Z",
     "shell.execute_reply": "2021-07-14T17:32:40.035732Z",
     "shell.execute_reply.started": "2021-07-14T17:32:40.028444Z"
    }
   },
   "outputs": [],
   "source": [
    "train_df.drop('Healthcare_1', axis=1, inplace=True)"
   ]
  },
  {
   "cell_type": "code",
   "execution_count": null,
   "metadata": {
    "execution": {
     "iopub.execute_input": "2021-07-14T17:36:20.288808Z",
     "iopub.status.busy": "2021-07-14T17:36:20.288264Z",
     "iopub.status.idle": "2021-07-14T17:36:20.309975Z",
     "shell.execute_reply": "2021-07-14T17:36:20.308864Z",
     "shell.execute_reply.started": "2021-07-14T17:36:20.288762Z"
    }
   },
   "outputs": [],
   "source": [
    "class DataPreprocessing:\n",
    "    \"\"\"Подготовка исходных данных\"\"\"\n",
    "\n",
    "    def __init__(self):\n",
    "        \"\"\"Параметры класса\"\"\"\n",
    "        self.medians = None\n",
    "        self.kitchen_square_quantile = None\n",
    "        \n",
    "    def fit(self, X):\n",
    "        \"\"\"Сохранение статистик\"\"\"       \n",
    "        # Расчет медиан\n",
    "        self.medians = X.median()\n",
    "        self.kitchen_square_quantile = X['KitchenSquare'].quantile(.975)\n",
    "    \n",
    "    def transform(self, X):\n",
    "        \"\"\"Трансформация данных\"\"\"\n",
    "\n",
    "        # Rooms\n",
    "        X['Rooms_outlier'] = 0\n",
    "        X.loc[(X['Rooms'] == 0) | (X['Rooms'] >= 6), 'Rooms_outlier'] = 1\n",
    "        \n",
    "        X.loc[X['Rooms'] == 0, 'Rooms'] = 1\n",
    "        X.loc[X['Rooms'] >= 6, 'Rooms'] = self.medians['Rooms']\n",
    "        \n",
    "        # KitchenSquare\n",
    "        condition = (X['KitchenSquare'].isna()) \\\n",
    "                    | (X['KitchenSquare'] > self.kitchen_square_quantile)\n",
    "        \n",
    "        X.loc[condition, 'KitchenSquare'] = self.medians['KitchenSquare']\n",
    "\n",
    "        X.loc[X['KitchenSquare'] < 3, 'KitchenSquare'] = 3\n",
    "        \n",
    "        # HouseFloor, Floor\n",
    "        X['HouseFloor_outlier'] = 0\n",
    "        X.loc[X['HouseFloor'] == 0, 'HouseFloor_outlier'] = 1\n",
    "        X.loc[X['Floor'] > X['HouseFloor'], 'HouseFloor_outlier'] = 1\n",
    "        \n",
    "        X.loc[X['HouseFloor'] == 0, 'HouseFloor'] = self.medians['HouseFloor']\n",
    "        \n",
    "        floor_outliers = X.loc[X['Floor'] > X['HouseFloor']].index\n",
    "        X.loc[floor_outliers, 'Floor'] = X.loc[floor_outliers, 'HouseFloor']\\\n",
    "                                            .apply(lambda x: random.randint(1, x))\n",
    "        \n",
    "        # HouseYear\n",
    "        current_year = datetime.now().year\n",
    "        \n",
    "        X['HouseYear_outlier'] = 0\n",
    "        X.loc[X['HouseYear'] > current_year, 'HouseYear_outlier'] = 1\n",
    "        \n",
    "        X.loc[X['HouseYear'] > current_year, 'HouseYear'] = current_year\n",
    "        \n",
    "        # Healthcare_1\n",
    "        if 'Healthcare_1' in X.columns:\n",
    "            X.drop('Healthcare_1', axis=1, inplace=True)\n",
    "            \n",
    "        # LifeSquare\n",
    "        X['LifeSquare_nan'] = X['LifeSquare'].isna() * 1\n",
    "        condition = (X['LifeSquare'].isna()) & \\\n",
    "                      (~X['Square'].isna()) & \\\n",
    "                      (~X['KitchenSquare'].isna())\n",
    "        \n",
    "        X.loc[condition, 'LifeSquare'] = X.loc[condition, 'Square'] - X.loc[condition, 'KitchenSquare'] - 3\n",
    "        \n",
    "        \n",
    "        X.fillna(self.medians, inplace=True)\n",
    "        \n",
    "        return X"
   ]
  },
  {
   "cell_type": "markdown",
   "metadata": {},
   "source": [
    "### 4. Построение новых признаков  <a class='anchor' id='feature'>"
   ]
  },
  {
   "cell_type": "markdown",
   "metadata": {},
   "source": [
    "**Dummies**"
   ]
  },
  {
   "cell_type": "code",
   "execution_count": null,
   "metadata": {
    "execution": {
     "iopub.execute_input": "2021-07-14T17:37:22.258708Z",
     "iopub.status.busy": "2021-07-14T17:37:22.258331Z",
     "iopub.status.idle": "2021-07-14T17:37:22.289685Z",
     "shell.execute_reply": "2021-07-14T17:37:22.288593Z",
     "shell.execute_reply.started": "2021-07-14T17:37:22.258675Z"
    }
   },
   "outputs": [],
   "source": [
    "binary_to_numbers = {'A': 0, 'B': 1}\n",
    "\n",
    "train_df['Ecology_2'] = train_df['Ecology_2'].replace(binary_to_numbers)\n",
    "train_df['Ecology_3'] = train_df['Ecology_3'].replace(binary_to_numbers)\n",
    "train_df['Shops_2'] = train_df['Shops_2'].replace(binary_to_numbers)"
   ]
  },
  {
   "cell_type": "markdown",
   "metadata": {},
   "source": [
    "**DistrictSize, IsDistrictLarge**"
   ]
  },
  {
   "cell_type": "code",
   "execution_count": null,
   "metadata": {
    "execution": {
     "iopub.execute_input": "2021-07-14T17:37:35.955996Z",
     "iopub.status.busy": "2021-07-14T17:37:35.955581Z",
     "iopub.status.idle": "2021-07-14T17:37:35.974217Z",
     "shell.execute_reply": "2021-07-14T17:37:35.973093Z",
     "shell.execute_reply.started": "2021-07-14T17:37:35.955964Z"
    }
   },
   "outputs": [],
   "source": [
    "district_size = train_df['DistrictId'].value_counts().reset_index()\\\n",
    "                    .rename(columns={'index':'DistrictId', 'DistrictId':'DistrictSize'})\n",
    "\n",
    "district_size.head()"
   ]
  },
  {
   "cell_type": "code",
   "execution_count": null,
   "metadata": {
    "execution": {
     "iopub.execute_input": "2021-07-14T17:38:22.19913Z",
     "iopub.status.busy": "2021-07-14T17:38:22.198569Z",
     "iopub.status.idle": "2021-07-14T17:38:22.245714Z",
     "shell.execute_reply": "2021-07-14T17:38:22.24451Z",
     "shell.execute_reply.started": "2021-07-14T17:38:22.199078Z"
    }
   },
   "outputs": [],
   "source": [
    "train_df = train_df.merge(district_size, on='DistrictId', how='left')\n",
    "train_df.head()"
   ]
  },
  {
   "cell_type": "code",
   "execution_count": null,
   "metadata": {
    "execution": {
     "iopub.execute_input": "2021-07-14T17:38:49.201291Z",
     "iopub.status.busy": "2021-07-14T17:38:49.200897Z",
     "iopub.status.idle": "2021-07-14T17:38:49.212369Z",
     "shell.execute_reply": "2021-07-14T17:38:49.211415Z",
     "shell.execute_reply.started": "2021-07-14T17:38:49.201252Z"
    }
   },
   "outputs": [],
   "source": [
    "(train_df['DistrictSize'] > 100).value_counts()"
   ]
  },
  {
   "cell_type": "code",
   "execution_count": null,
   "metadata": {
    "execution": {
     "iopub.execute_input": "2021-07-14T17:39:05.365998Z",
     "iopub.status.busy": "2021-07-14T17:39:05.365582Z",
     "iopub.status.idle": "2021-07-14T17:39:05.374831Z",
     "shell.execute_reply": "2021-07-14T17:39:05.373177Z",
     "shell.execute_reply.started": "2021-07-14T17:39:05.365961Z"
    }
   },
   "outputs": [],
   "source": [
    "train_df['IsDistrictLarge'] = (train_df['DistrictSize'] > 100).astype(int)"
   ]
  },
  {
   "cell_type": "markdown",
   "metadata": {},
   "source": [
    "**MedPriceByDistrict**"
   ]
  },
  {
   "cell_type": "code",
   "execution_count": null,
   "metadata": {
    "execution": {
     "iopub.execute_input": "2021-07-14T17:40:02.255387Z",
     "iopub.status.busy": "2021-07-14T17:40:02.255021Z",
     "iopub.status.idle": "2021-07-14T17:40:02.2824Z",
     "shell.execute_reply": "2021-07-14T17:40:02.281546Z",
     "shell.execute_reply.started": "2021-07-14T17:40:02.255355Z"
    }
   },
   "outputs": [],
   "source": [
    "med_price_by_district = train_df.groupby(['DistrictId', 'Rooms'], as_index=False).agg({'Price':'median'})\\\n",
    "                            .rename(columns={'Price':'MedPriceByDistrict'})\n",
    "\n",
    "med_price_by_district.head()"
   ]
  },
  {
   "cell_type": "code",
   "execution_count": null,
   "metadata": {
    "execution": {
     "iopub.execute_input": "2021-07-14T17:41:14.696608Z",
     "iopub.status.busy": "2021-07-14T17:41:14.695919Z",
     "iopub.status.idle": "2021-07-14T17:41:14.701859Z",
     "shell.execute_reply": "2021-07-14T17:41:14.70092Z",
     "shell.execute_reply.started": "2021-07-14T17:41:14.69657Z"
    }
   },
   "outputs": [],
   "source": [
    "med_price_by_district.shape"
   ]
  },
  {
   "cell_type": "code",
   "execution_count": null,
   "metadata": {
    "execution": {
     "iopub.execute_input": "2021-07-14T17:41:38.420244Z",
     "iopub.status.busy": "2021-07-14T17:41:38.419913Z",
     "iopub.status.idle": "2021-07-14T17:41:38.463121Z",
     "shell.execute_reply": "2021-07-14T17:41:38.462082Z",
     "shell.execute_reply.started": "2021-07-14T17:41:38.420214Z"
    }
   },
   "outputs": [],
   "source": [
    "train_df = train_df.merge(med_price_by_district, on=['DistrictId', 'Rooms'], how='left')\n",
    "train_df.head()"
   ]
  },
  {
   "cell_type": "markdown",
   "metadata": {},
   "source": [
    "**MedPriceByFloorYear**"
   ]
  },
  {
   "cell_type": "code",
   "execution_count": null,
   "metadata": {
    "execution": {
     "iopub.execute_input": "2021-07-14T17:46:57.768385Z",
     "iopub.status.busy": "2021-07-14T17:46:57.768017Z",
     "iopub.status.idle": "2021-07-14T17:46:57.787254Z",
     "shell.execute_reply": "2021-07-14T17:46:57.786345Z",
     "shell.execute_reply.started": "2021-07-14T17:46:57.768354Z"
    }
   },
   "outputs": [],
   "source": [
    "def floor_to_cat(X):\n",
    "\n",
    "    X['floor_cat'] = 0\n",
    "\n",
    "    X.loc[X['Floor'] <= 3, 'floor_cat'] = 1  \n",
    "    X.loc[(X['Floor'] > 3) & (X['Floor'] <= 5), 'floor_cat'] = 2\n",
    "    X.loc[(X['Floor'] > 5) & (X['Floor'] <= 9), 'floor_cat'] = 3\n",
    "    X.loc[(X['Floor'] > 9) & (X['Floor'] <= 15), 'floor_cat'] = 4\n",
    "    X.loc[X['Floor'] > 15, 'floor_cat'] = 5\n",
    "\n",
    "    return X\n",
    "\n",
    "\n",
    "def floor_to_cat_pandas(X):\n",
    "    bins = [0, 3, 5, 9, 15, X['Floor'].max()]\n",
    "    X['floor_cat'] = pd.cut(X['Floor'], bins=bins, labels=False)\n",
    "    \n",
    "    X['floor_cat'].fillna(-1, inplace=True)\n",
    "    return X\n",
    "\n",
    "\n",
    "def year_to_cat(X):\n",
    "\n",
    "    X['year_cat'] = 0\n",
    "\n",
    "    X.loc[X['HouseYear'] <= 1941, 'year_cat'] = 1\n",
    "    X.loc[(X['HouseYear'] > 1941) & (X['HouseYear'] <= 1945), 'year_cat'] = 2\n",
    "    X.loc[(X['HouseYear'] > 1945) & (X['HouseYear'] <= 1980), 'year_cat'] = 3\n",
    "    X.loc[(X['HouseYear'] > 1980) & (X['HouseYear'] <= 2000), 'year_cat'] = 4\n",
    "    X.loc[(X['HouseYear'] > 2000) & (X['HouseYear'] <= 2010), 'year_cat'] = 5\n",
    "    X.loc[(X['HouseYear'] > 2010), 'year_cat'] = 6\n",
    "\n",
    "    return X\n",
    "\n",
    "\n",
    "def year_to_cat_pandas(X):\n",
    "    bins = [0, 1941, 1945, 1980, 2000, 2010, X['HouseYear'].max()]\n",
    "    X['year_cat'] = pd.cut(X['HouseYear'], bins=bins, labels=False)\n",
    "    \n",
    "    X['year_cat'].fillna(-1, inplace=True)\n",
    "    return X"
   ]
  },
  {
   "cell_type": "code",
   "execution_count": null,
   "metadata": {
    "execution": {
     "iopub.execute_input": "2021-07-14T17:47:09.302404Z",
     "iopub.status.busy": "2021-07-14T17:47:09.302047Z",
     "iopub.status.idle": "2021-07-14T17:47:09.314347Z",
     "shell.execute_reply": "2021-07-14T17:47:09.313221Z",
     "shell.execute_reply.started": "2021-07-14T17:47:09.302373Z"
    }
   },
   "outputs": [],
   "source": [
    "bins = [0, 3, 5, 9, 15, train_df['Floor'].max()]\n",
    "pd.cut(train_df['Floor'], bins=bins, labels=False)"
   ]
  },
  {
   "cell_type": "code",
   "execution_count": null,
   "metadata": {
    "execution": {
     "iopub.execute_input": "2021-07-14T17:47:09.76457Z",
     "iopub.status.busy": "2021-07-14T17:47:09.763965Z",
     "iopub.status.idle": "2021-07-14T17:47:09.784605Z",
     "shell.execute_reply": "2021-07-14T17:47:09.783584Z",
     "shell.execute_reply.started": "2021-07-14T17:47:09.764532Z"
    }
   },
   "outputs": [],
   "source": [
    "bins = [0, 3, 5, 9, 15, train_df['Floor'].max()]\n",
    "pd.cut(train_df['Floor'], bins=bins)"
   ]
  },
  {
   "cell_type": "code",
   "execution_count": null,
   "metadata": {
    "execution": {
     "iopub.execute_input": "2021-07-14T17:48:26.962644Z",
     "iopub.status.busy": "2021-07-14T17:48:26.962245Z",
     "iopub.status.idle": "2021-07-14T17:48:27.013699Z",
     "shell.execute_reply": "2021-07-14T17:48:27.012848Z",
     "shell.execute_reply.started": "2021-07-14T17:48:26.962611Z"
    }
   },
   "outputs": [],
   "source": [
    "train_df = year_to_cat(train_df)\n",
    "train_df = floor_to_cat(train_df)\n",
    "train_df.head()"
   ]
  },
  {
   "cell_type": "code",
   "execution_count": null,
   "metadata": {
    "execution": {
     "iopub.execute_input": "2021-07-14T17:48:51.241706Z",
     "iopub.status.busy": "2021-07-14T17:48:51.241032Z",
     "iopub.status.idle": "2021-07-14T17:48:51.258268Z",
     "shell.execute_reply": "2021-07-14T17:48:51.257497Z",
     "shell.execute_reply.started": "2021-07-14T17:48:51.241661Z"
    }
   },
   "outputs": [],
   "source": [
    "med_price_by_floor_year = train_df.groupby(['year_cat', 'floor_cat'], as_index=False).agg({'Price':'median'}).\\\n",
    "                                            rename(columns={'Price':'MedPriceByFloorYear'})\n",
    "med_price_by_floor_year.head()"
   ]
  },
  {
   "cell_type": "code",
   "execution_count": null,
   "metadata": {
    "execution": {
     "iopub.execute_input": "2021-07-14T17:49:28.275132Z",
     "iopub.status.busy": "2021-07-14T17:49:28.274602Z",
     "iopub.status.idle": "2021-07-14T17:49:28.31646Z",
     "shell.execute_reply": "2021-07-14T17:49:28.315632Z",
     "shell.execute_reply.started": "2021-07-14T17:49:28.275096Z"
    }
   },
   "outputs": [],
   "source": [
    "train_df = train_df.merge(med_price_by_floor_year, on=['year_cat', 'floor_cat'], how='left')\n",
    "train_df.head()"
   ]
  },
  {
   "cell_type": "code",
   "execution_count": null,
   "metadata": {
    "execution": {
     "iopub.execute_input": "2021-07-14T17:57:40.555036Z",
     "iopub.status.busy": "2021-07-14T17:57:40.554648Z",
     "iopub.status.idle": "2021-07-14T17:57:40.586078Z",
     "shell.execute_reply": "2021-07-14T17:57:40.584902Z",
     "shell.execute_reply.started": "2021-07-14T17:57:40.555004Z"
    }
   },
   "outputs": [],
   "source": [
    "class FeatureGenetator():\n",
    "    \"\"\"Генерация новых фич\"\"\"\n",
    "    \n",
    "    def __init__(self):\n",
    "        self.DistrictId_counts = None\n",
    "        self.binary_to_numbers = None\n",
    "        self.med_price_by_district = None\n",
    "        self.med_price_by_floor_year = None\n",
    "        self.house_year_max = None\n",
    "        self.floor_max = None\n",
    "        self.district_size = None\n",
    "        \n",
    "    def fit(self, X, y=None):\n",
    "        \n",
    "        X = X.copy()\n",
    "        \n",
    "        # Binary features\n",
    "        self.binary_to_numbers = {'A': 0, 'B': 1}\n",
    "        \n",
    "        # DistrictID\n",
    "        self.district_size = X['DistrictId'].value_counts().reset_index() \\\n",
    "                               .rename(columns={'index':'DistrictId', 'DistrictId':'DistrictSize'})\n",
    "                \n",
    "        # Target encoding\n",
    "        ## District, Rooms\n",
    "        df = X.copy()\n",
    "        \n",
    "        if y is not None:\n",
    "            df['Price'] = y.values\n",
    "            \n",
    "            self.med_price_by_district = df.groupby(['DistrictId', 'Rooms'], as_index=False).agg({'Price':'median'})\\\n",
    "                                            .rename(columns={'Price':'MedPriceByDistrict'})\n",
    "            \n",
    "            self.med_price_by_district_median = self.med_price_by_district['MedPriceByDistrict'].median()\n",
    "            \n",
    "        ## floor, year\n",
    "        if y is not None:\n",
    "            self.floor_max = df['Floor'].max()\n",
    "            self.house_year_max = df['HouseYear'].max()\n",
    "            df['Price'] = y.values\n",
    "            df = self.floor_to_cat(df)\n",
    "            df = self.year_to_cat(df)\n",
    "            self.med_price_by_floor_year = df.groupby(['year_cat', 'floor_cat'], as_index=False).agg({'Price':'median'}).\\\n",
    "                                            rename(columns={'Price':'MedPriceByFloorYear'})\n",
    "            self.med_price_by_floor_year_median = self.med_price_by_floor_year['MedPriceByFloorYear'].median()\n",
    "        \n",
    "\n",
    "        \n",
    "    def transform(self, X):\n",
    "        \n",
    "        # Binary features\n",
    "        X['Ecology_2'] = X['Ecology_2'].map(self.binary_to_numbers)  # self.binary_to_numbers = {'A': 0, 'B': 1}\n",
    "        X['Ecology_3'] = X['Ecology_3'].map(self.binary_to_numbers)\n",
    "        X['Shops_2'] = X['Shops_2'].map(self.binary_to_numbers)\n",
    "        \n",
    "        # DistrictId, IsDistrictLarge\n",
    "        X = X.merge(self.district_size, on='DistrictId', how='left')\n",
    "        \n",
    "        X['new_district'] = 0\n",
    "        X.loc[X['DistrictSize'].isna(), 'new_district'] = 1\n",
    "        \n",
    "        X['DistrictSize'].fillna(5, inplace=True)\n",
    "        \n",
    "        X['IsDistrictLarge'] = (X['DistrictSize'] > 100).astype(int)\n",
    "        \n",
    "        # More categorical features\n",
    "        X = self.floor_to_cat(X)  # + столбец floor_cat\n",
    "        X = self.year_to_cat(X)   # + столбец year_cat\n",
    "        \n",
    "        # Target encoding\n",
    "        if self.med_price_by_district is not None:\n",
    "            X = X.merge(self.med_price_by_district, on=['DistrictId', 'Rooms'], how='left')\n",
    "            X['MedPriceByDistrict'].fillna(self.med_price_by_district_median, inplace=True)\n",
    "            \n",
    "        if self.med_price_by_floor_year is not None:\n",
    "            X = X.merge(self.med_price_by_floor_year, on=['year_cat', 'floor_cat'], how='left')\n",
    "            X['MedPriceByFloorYear'].fillna(self.med_price_by_floor_year_median, inplace=True)\n",
    "        \n",
    "        return X\n",
    "    \n",
    "    def floor_to_cat(self, X):\n",
    "        bins = [0, 3, 5, 9, 15, self.floor_max]\n",
    "        X['floor_cat'] = pd.cut(X['Floor'], bins=bins, labels=False)\n",
    "\n",
    "        X['floor_cat'].fillna(-1, inplace=True)\n",
    "        return X\n",
    "     \n",
    "    def year_to_cat(self, X):\n",
    "        bins = [0, 1941, 1945, 1980, 2000, 2010, self.house_year_max]\n",
    "        X['year_cat'] = pd.cut(X['HouseYear'], bins=bins, labels=False)\n",
    "\n",
    "        X['year_cat'].fillna(-1, inplace=True)\n",
    "        return X\n",
    "            \n",
    "    "
   ]
  },
  {
   "cell_type": "markdown",
   "metadata": {},
   "source": [
    "### 5. Отбор признаков  <a class='anchor' id='feature_selection'>"
   ]
  },
  {
   "cell_type": "code",
   "execution_count": null,
   "metadata": {
    "execution": {
     "iopub.execute_input": "2021-07-14T18:06:23.343442Z",
     "iopub.status.busy": "2021-07-14T18:06:23.343037Z",
     "iopub.status.idle": "2021-07-14T18:06:23.351546Z",
     "shell.execute_reply": "2021-07-14T18:06:23.350211Z",
     "shell.execute_reply.started": "2021-07-14T18:06:23.343395Z"
    }
   },
   "outputs": [],
   "source": [
    "train_df.columns.tolist()"
   ]
  },
  {
   "cell_type": "code",
   "execution_count": null,
   "metadata": {
    "execution": {
     "iopub.execute_input": "2021-07-14T18:07:08.756299Z",
     "iopub.status.busy": "2021-07-14T18:07:08.755923Z",
     "iopub.status.idle": "2021-07-14T18:07:08.763483Z",
     "shell.execute_reply": "2021-07-14T18:07:08.761836Z",
     "shell.execute_reply.started": "2021-07-14T18:07:08.756265Z"
    }
   },
   "outputs": [],
   "source": [
    "feature_names = ['Rooms', 'Square', 'LifeSquare', 'KitchenSquare', 'Floor', 'HouseFloor', 'HouseYear',\n",
    "                 'Ecology_1', 'Ecology_2', 'Ecology_3', 'Social_1', 'Social_2', 'Social_3',\n",
    "                 'Helthcare_2', 'Shops_1', 'Shops_2']\n",
    "\n",
    "new_feature_names = ['Rooms_outlier', 'HouseFloor_outlier', 'HouseYear_outlier', 'LifeSquare_nan', 'DistrictSize',\n",
    "                     'new_district', 'IsDistrictLarge',  'MedPriceByDistrict', 'MedPriceByFloorYear']\n",
    "\n",
    "target_name = 'Price'"
   ]
  },
  {
   "cell_type": "markdown",
   "metadata": {},
   "source": [
    "### 6. Разбиение на train и test  <a class='anchor' id='split'>"
   ]
  },
  {
   "cell_type": "code",
   "execution_count": null,
   "metadata": {
    "execution": {
     "iopub.execute_input": "2021-07-14T18:07:20.922215Z",
     "iopub.status.busy": "2021-07-14T18:07:20.921566Z",
     "iopub.status.idle": "2021-07-14T18:07:20.986468Z",
     "shell.execute_reply": "2021-07-14T18:07:20.985567Z",
     "shell.execute_reply.started": "2021-07-14T18:07:20.922162Z"
    }
   },
   "outputs": [],
   "source": [
    "train_df = pd.read_csv(TRAIN_DATASET_PATH)\n",
    "test_df = pd.read_csv(TEST_DATASET_PATH)\n",
    "\n",
    "X = train_df.drop(columns=target_name)\n",
    "y = train_df[target_name]"
   ]
  },
  {
   "cell_type": "code",
   "execution_count": null,
   "metadata": {
    "execution": {
     "iopub.execute_input": "2021-07-14T18:07:41.801149Z",
     "iopub.status.busy": "2021-07-14T18:07:41.800778Z",
     "iopub.status.idle": "2021-07-14T18:07:41.812809Z",
     "shell.execute_reply": "2021-07-14T18:07:41.81149Z",
     "shell.execute_reply.started": "2021-07-14T18:07:41.801116Z"
    }
   },
   "outputs": [],
   "source": [
    "X_train, X_valid, y_train, y_valid = train_test_split(X, y, test_size=0.33, shuffle=True, random_state=21)"
   ]
  },
  {
   "cell_type": "code",
   "execution_count": null,
   "metadata": {
    "execution": {
     "iopub.execute_input": "2021-07-14T18:07:58.86795Z",
     "iopub.status.busy": "2021-07-14T18:07:58.867553Z",
     "iopub.status.idle": "2021-07-14T18:07:58.956843Z",
     "shell.execute_reply": "2021-07-14T18:07:58.956029Z",
     "shell.execute_reply.started": "2021-07-14T18:07:58.867917Z"
    }
   },
   "outputs": [],
   "source": [
    "preprocessor = DataPreprocessing()\n",
    "preprocessor.fit(X_train)\n",
    "\n",
    "X_train = preprocessor.transform(X_train)\n",
    "X_valid = preprocessor.transform(X_valid)\n",
    "test_df = preprocessor.transform(test_df)\n",
    "\n",
    "X_train.shape, X_valid.shape, test_df.shape"
   ]
  },
  {
   "cell_type": "code",
   "execution_count": null,
   "metadata": {
    "execution": {
     "iopub.execute_input": "2021-07-14T18:08:54.588054Z",
     "iopub.status.busy": "2021-07-14T18:08:54.587492Z",
     "iopub.status.idle": "2021-07-14T18:08:54.716634Z",
     "shell.execute_reply": "2021-07-14T18:08:54.715485Z",
     "shell.execute_reply.started": "2021-07-14T18:08:54.588008Z"
    }
   },
   "outputs": [],
   "source": [
    "features_gen = FeatureGenetator()\n",
    "features_gen.fit(X_train, y_train)\n",
    "\n",
    "X_train = features_gen.transform(X_train)\n",
    "X_valid = features_gen.transform(X_valid)\n",
    "test_df = features_gen.transform(test_df)\n",
    "\n",
    "X_train.shape, X_valid.shape, test_df.shape"
   ]
  },
  {
   "cell_type": "code",
   "execution_count": null,
   "metadata": {
    "execution": {
     "iopub.execute_input": "2021-07-14T18:09:55.690825Z",
     "iopub.status.busy": "2021-07-14T18:09:55.69047Z",
     "iopub.status.idle": "2021-07-14T18:09:55.706208Z",
     "shell.execute_reply": "2021-07-14T18:09:55.705069Z",
     "shell.execute_reply.started": "2021-07-14T18:09:55.690793Z"
    }
   },
   "outputs": [],
   "source": [
    "X_train = X_train[feature_names + new_feature_names]\n",
    "X_valid = X_valid[feature_names + new_feature_names]\n",
    "test_df = test_df[feature_names + new_feature_names]"
   ]
  },
  {
   "cell_type": "code",
   "execution_count": null,
   "metadata": {
    "execution": {
     "iopub.execute_input": "2021-07-14T18:10:03.315025Z",
     "iopub.status.busy": "2021-07-14T18:10:03.314667Z",
     "iopub.status.idle": "2021-07-14T18:10:03.326499Z",
     "shell.execute_reply": "2021-07-14T18:10:03.325536Z",
     "shell.execute_reply.started": "2021-07-14T18:10:03.314994Z"
    }
   },
   "outputs": [],
   "source": [
    "X_train.isna().sum().sum(), X_valid.isna().sum().sum(), test_df.isna().sum().sum()"
   ]
  },
  {
   "cell_type": "markdown",
   "metadata": {},
   "source": [
    "### 7. Построение модели  <a class='anchor' id='modeling'>"
   ]
  },
  {
   "cell_type": "markdown",
   "metadata": {},
   "source": [
    "**Обучение**"
   ]
  },
  {
   "cell_type": "code",
   "execution_count": null,
   "metadata": {
    "execution": {
     "iopub.execute_input": "2021-07-14T18:10:11.760975Z",
     "iopub.status.busy": "2021-07-14T18:10:11.760562Z",
     "iopub.status.idle": "2021-07-14T18:10:17.577695Z",
     "shell.execute_reply": "2021-07-14T18:10:17.576104Z",
     "shell.execute_reply.started": "2021-07-14T18:10:11.760941Z"
    }
   },
   "outputs": [],
   "source": [
    "rf_model = RandomForestRegressor(random_state=21, criterion='mse')\n",
    "rf_model.fit(X_train, y_train)"
   ]
  },
  {
   "cell_type": "markdown",
   "metadata": {},
   "source": [
    "**Оценка модели**"
   ]
  },
  {
   "cell_type": "code",
   "execution_count": null,
   "metadata": {
    "execution": {
     "iopub.execute_input": "2021-07-14T18:10:17.580761Z",
     "iopub.status.busy": "2021-07-14T18:10:17.580321Z",
     "iopub.status.idle": "2021-07-14T18:10:18.263529Z",
     "shell.execute_reply": "2021-07-14T18:10:18.262126Z",
     "shell.execute_reply.started": "2021-07-14T18:10:17.580713Z"
    }
   },
   "outputs": [],
   "source": [
    "y_train_preds = rf_model.predict(X_train)\n",
    "y_test_preds = rf_model.predict(X_valid)\n",
    "\n",
    "evaluate_preds(y_train, y_train_preds, y_valid, y_test_preds)"
   ]
  },
  {
   "cell_type": "markdown",
   "metadata": {},
   "source": [
    "**Кросс-валидация**"
   ]
  },
  {
   "cell_type": "code",
   "execution_count": null,
   "metadata": {
    "execution": {
     "iopub.execute_input": "2021-07-14T18:10:18.265771Z",
     "iopub.status.busy": "2021-07-14T18:10:18.265248Z",
     "iopub.status.idle": "2021-07-14T18:10:29.951705Z",
     "shell.execute_reply": "2021-07-14T18:10:29.950533Z",
     "shell.execute_reply.started": "2021-07-14T18:10:18.265733Z"
    }
   },
   "outputs": [],
   "source": [
    "cv_score = cross_val_score(rf_model, X_train, y_train, scoring='r2', cv=KFold(n_splits=3, shuffle=True, random_state=21))\n",
    "cv_score"
   ]
  },
  {
   "cell_type": "code",
   "execution_count": null,
   "metadata": {
    "execution": {
     "iopub.execute_input": "2021-07-14T18:10:29.953508Z",
     "iopub.status.busy": "2021-07-14T18:10:29.953204Z",
     "iopub.status.idle": "2021-07-14T18:10:29.959101Z",
     "shell.execute_reply": "2021-07-14T18:10:29.958176Z",
     "shell.execute_reply.started": "2021-07-14T18:10:29.953479Z"
    }
   },
   "outputs": [],
   "source": [
    "cv_score.mean()"
   ]
  },
  {
   "cell_type": "markdown",
   "metadata": {},
   "source": [
    "**Важность признаков**"
   ]
  },
  {
   "cell_type": "code",
   "execution_count": null,
   "metadata": {
    "execution": {
     "iopub.execute_input": "2021-07-14T18:10:29.961937Z",
     "iopub.status.busy": "2021-07-14T18:10:29.961557Z",
     "iopub.status.idle": "2021-07-14T18:10:30.01091Z",
     "shell.execute_reply": "2021-07-14T18:10:30.009937Z",
     "shell.execute_reply.started": "2021-07-14T18:10:29.961903Z"
    }
   },
   "outputs": [],
   "source": [
    "feature_importances = pd.DataFrame(zip(X_train.columns, rf_model.feature_importances_), \n",
    "                                   columns=['feature_name', 'importance'])\n",
    "\n",
    "feature_importances.sort_values(by='importance', ascending=False)"
   ]
  },
  {
   "cell_type": "markdown",
   "metadata": {},
   "source": [
    "Идея более сложных моделей:"
   ]
  },
  {
   "cell_type": "code",
   "execution_count": null,
   "metadata": {
    "execution": {
     "iopub.execute_input": "2021-07-14T18:10:30.013035Z",
     "iopub.status.busy": "2021-07-14T18:10:30.012726Z",
     "iopub.status.idle": "2021-07-14T18:10:59.670086Z",
     "shell.execute_reply": "2021-07-14T18:10:59.669038Z",
     "shell.execute_reply.started": "2021-07-14T18:10:30.013006Z"
    }
   },
   "outputs": [],
   "source": [
    "from sklearn.ensemble import StackingRegressor, VotingRegressor, BaggingRegressor, GradientBoostingRegressor\n",
    "from sklearn.linear_model import LinearRegression\n",
    "\n",
    "lr = LinearRegression()\n",
    "gb = GradientBoostingRegressor()\n",
    "\n",
    "stack = StackingRegressor([('lr', lr), ('rf', rf_model)], final_estimator=gb)\n",
    "stack.fit(X_train, y_train)"
   ]
  },
  {
   "cell_type": "code",
   "execution_count": null,
   "metadata": {
    "execution": {
     "iopub.execute_input": "2021-07-14T18:10:59.672146Z",
     "iopub.status.busy": "2021-07-14T18:10:59.671545Z",
     "iopub.status.idle": "2021-07-14T18:11:00.335987Z",
     "shell.execute_reply": "2021-07-14T18:11:00.334662Z",
     "shell.execute_reply.started": "2021-07-14T18:10:59.672097Z"
    }
   },
   "outputs": [],
   "source": [
    "y_train_preds = stack.predict(X_train)\n",
    "y_test_preds = stack.predict(X_valid)\n",
    "\n",
    "evaluate_preds(y_train, y_train_preds, y_valid, y_test_preds)"
   ]
  },
  {
   "cell_type": "markdown",
   "metadata": {},
   "source": [
    "### 8. Прогнозирование на тестовом датасете  <a class='anchor' id='prediction'>\n",
    "\n",
    "1. Выполнить для тестового датасета те же этапы обработки и постронияния признаков\n",
    "2. Не потерять и не перемешать индексы от примеров при построении прогнозов\n",
    "3. Прогнозы должны быть для все примеров из тестового датасета (для всех строк)"
   ]
  },
  {
   "cell_type": "code",
   "execution_count": null,
   "metadata": {
    "execution": {
     "iopub.execute_input": "2021-07-14T18:11:00.338289Z",
     "iopub.status.busy": "2021-07-14T18:11:00.337803Z",
     "iopub.status.idle": "2021-07-14T18:11:00.34615Z",
     "shell.execute_reply": "2021-07-14T18:11:00.344667Z",
     "shell.execute_reply.started": "2021-07-14T18:11:00.338238Z"
    }
   },
   "outputs": [],
   "source": [
    "test_df.shape"
   ]
  },
  {
   "cell_type": "code",
   "execution_count": null,
   "metadata": {
    "execution": {
     "iopub.execute_input": "2021-07-14T18:21:06.269846Z",
     "iopub.status.busy": "2021-07-14T18:21:06.269464Z",
     "iopub.status.idle": "2021-07-14T18:21:06.31726Z",
     "shell.execute_reply": "2021-07-14T18:21:06.316321Z",
     "shell.execute_reply.started": "2021-07-14T18:21:06.269813Z"
    }
   },
   "outputs": [],
   "source": [
    "test_df"
   ]
  },
  {
   "cell_type": "code",
   "execution_count": null,
   "metadata": {
    "execution": {
     "iopub.execute_input": "2021-07-14T18:21:19.702036Z",
     "iopub.status.busy": "2021-07-14T18:21:19.701626Z",
     "iopub.status.idle": "2021-07-14T18:21:19.727664Z",
     "shell.execute_reply": "2021-07-14T18:21:19.726588Z",
     "shell.execute_reply.started": "2021-07-14T18:21:19.702003Z"
    }
   },
   "outputs": [],
   "source": [
    "submit = pd.read_csv('/kaggle/input/real-estate-price-prediction-moscow/sample_submission.csv')\n",
    "submit.head()"
   ]
  },
  {
   "cell_type": "code",
   "execution_count": null,
   "metadata": {
    "execution": {
     "iopub.execute_input": "2021-07-14T18:21:37.672551Z",
     "iopub.status.busy": "2021-07-14T18:21:37.672155Z",
     "iopub.status.idle": "2021-07-14T18:21:37.814314Z",
     "shell.execute_reply": "2021-07-14T18:21:37.812877Z",
     "shell.execute_reply.started": "2021-07-14T18:21:37.672518Z"
    }
   },
   "outputs": [],
   "source": [
    "predictions = rf_model.predict(test_df)\n",
    "predictions"
   ]
  },
  {
   "cell_type": "code",
   "execution_count": null,
   "metadata": {
    "execution": {
     "iopub.execute_input": "2021-07-14T18:21:46.920554Z",
     "iopub.status.busy": "2021-07-14T18:21:46.920185Z",
     "iopub.status.idle": "2021-07-14T18:21:46.931582Z",
     "shell.execute_reply": "2021-07-14T18:21:46.930385Z",
     "shell.execute_reply.started": "2021-07-14T18:21:46.920522Z"
    }
   },
   "outputs": [],
   "source": [
    "submit['Price'] = predictions\n",
    "submit.head()"
   ]
  },
  {
   "cell_type": "code",
   "execution_count": null,
   "metadata": {
    "execution": {
     "iopub.execute_input": "2021-07-14T18:21:47.525736Z",
     "iopub.status.busy": "2021-07-14T18:21:47.525348Z",
     "iopub.status.idle": "2021-07-14T18:21:48.155302Z",
     "shell.execute_reply": "2021-07-14T18:21:48.154337Z",
     "shell.execute_reply.started": "2021-07-14T18:21:47.525702Z"
    }
   },
   "outputs": [],
   "source": [
    "submit.to_csv('rf_submit.csv', index=False)"
   ]
  }
 ],
 "metadata": {
  "kernelspec": {
   "display_name": "Python 3 (ipykernel)",
   "language": "python",
   "name": "python3"
  },
  "language_info": {
   "codemirror_mode": {
    "name": "ipython",
    "version": 3
   },
   "file_extension": ".py",
   "mimetype": "text/x-python",
   "name": "python",
   "nbconvert_exporter": "python",
   "pygments_lexer": "ipython3",
   "version": "3.9.2"
  }
 },
 "nbformat": 4,
 "nbformat_minor": 4
}
